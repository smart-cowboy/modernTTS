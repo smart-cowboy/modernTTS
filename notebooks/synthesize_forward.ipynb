{
 "cells": [
  {
   "cell_type": "markdown",
   "metadata": {
    "colab_type": "text",
    "id": "zdMgfG7GMF_R"
   },
   "source": [
    "# Transformer TTS: A Text-to-Speech Transformer in TensorFlow 2\n",
    "## Forward Model"
   ]
  },
  {
   "cell_type": "code",
   "execution_count": null,
   "metadata": {
    "colab": {
     "base_uri": "https://localhost:8080/",
     "height": 323
    },
    "colab_type": "code",
    "id": "JQ5YuFPAxXUy",
    "outputId": "e9f81ab0-adbe-4741-daee-fd115387b047"
   },
   "outputs": [],
   "source": [
    "# Clone the Transformer TTS and WaveRNN repos\n",
    "!git clone https://github.com/as-ideas/TransformerTTS.git\n",
    "!git clone https://github.com/fatchord/WaveRNN"
   ]
  },
  {
   "cell_type": "code",
   "execution_count": null,
   "metadata": {
    "colab": {
     "base_uri": "https://localhost:8080/",
     "height": 1000
    },
    "colab_type": "code",
    "id": "9bIzkIGjMRwm",
    "outputId": "89e451ea-c101-4694-c404-d3c15a358854"
   },
   "outputs": [],
   "source": [
    "# Install requirements\n",
    "!apt-get install -y espeak\n",
    "!pip install -r TransformerTTS/requirements.txt"
   ]
  },
  {
   "cell_type": "code",
   "execution_count": null,
   "metadata": {},
   "outputs": [],
   "source": [
    "# Download the pre-trained weights\n",
    "! wget https://public-asai-dl-models.s3.eu-central-1.amazonaws.com/TransformerTTS/ljspeech_forward_transformer.zip\n",
    "! unzip ljspeech_forward_transformer.zip"
   ]
  },
  {
   "cell_type": "code",
   "execution_count": null,
   "metadata": {},
   "outputs": [],
   "source": [
    "# Set up the paths\n",
    "from pathlib import Path\n",
    "WaveRNN_path = 'WaveRNN/'\n",
    "TTS_path = 'TransformerTTS/'\n",
    "config_path = Path('ljspeech_forward_transformer/standard')\n",
    "\n",
    "import sys\n",
    "sys.path.append(TTS_path)"
   ]
  },
  {
   "cell_type": "code",
   "execution_count": null,
   "metadata": {
    "colab": {
     "base_uri": "https://localhost:8080/",
     "height": 88
    },
    "colab_type": "code",
    "id": "LucwkAK1yEVq",
    "outputId": "bef65ba5-1549-488c-d4dc-788965fa93ee"
   },
   "outputs": [],
   "source": [
    "# Load pretrained models\n",
    "from utils.config_manager import ConfigManager\n",
    "from utils.audio import Audio\n",
    "\n",
    "import IPython.display as ipd\n",
    "\n",
    "config_loader = ConfigManager(str(config_path), model_kind='forward')\n",
    "audio = Audio(config_loader.config)\n",
    "model = config_loader.load_model(str(config_path / 'forward_weights/ckpt-133'))"
   ]
  },
  {
   "cell_type": "code",
   "execution_count": null,
   "metadata": {
    "colab": {
     "base_uri": "https://localhost:8080/",
     "height": 34
    },
    "colab_type": "code",
    "id": "_5RKHIDQyZvo",
    "outputId": "a8c04963-ab23-480e-9826-53de2db0c67c"
   },
   "outputs": [],
   "source": [
    "# Synthesize text\n",
    "sentence = 'Scientists at the CERN laboratory, say they have discovered a new particle.'\n",
    "out = model.predict(sentence)"
   ]
  },
  {
   "cell_type": "code",
   "execution_count": null,
   "metadata": {
    "colab": {
     "base_uri": "https://localhost:8080/",
     "height": 75
    },
    "colab_type": "code",
    "id": "GXxdDHOAyZ6f",
    "outputId": "d319bc2c-2843-4b51-e1ce-76c2857f255e"
   },
   "outputs": [],
   "source": [
    "# Convert spectrogram to wav (with griffin lim)\n",
    "wav = audio.reconstruct_waveform(out['mel'].numpy().T)\n",
    "ipd.display(ipd.Audio(wav, rate=config_loader.config['sampling_rate']))"
   ]
  },
  {
   "cell_type": "code",
   "execution_count": null,
   "metadata": {},
   "outputs": [],
   "source": [
    "# Normalize for WaveRNN\n",
    "mel = (out['mel'].numpy().T+4.)/8."
   ]
  },
  {
   "cell_type": "markdown",
   "metadata": {},
   "source": [
    "You can also vary the speech speed"
   ]
  },
  {
   "cell_type": "code",
   "execution_count": null,
   "metadata": {},
   "outputs": [],
   "source": [
    "# 20% faster\n",
    "sentence = 'Scientists at the CERN laboratory, say they have discovered a new particle.'\n",
    "out = model.predict(sentence, speed_regulator=1.20)\n",
    "wav = audio.reconstruct_waveform(out['mel'].numpy().T)\n",
    "ipd.display(ipd.Audio(wav, rate=config_loader.config['sampling_rate']))"
   ]
  },
  {
   "cell_type": "code",
   "execution_count": null,
   "metadata": {},
   "outputs": [],
   "source": [
    "# 10% slower\n",
    "sentence = 'Scientists at the CERN laboratory, say they have discovered a new particle.'\n",
    "out = model.predict(sentence, speed_regulator=.9)\n",
    "wav = audio.reconstruct_waveform(out['mel'].numpy().T)\n",
    "ipd.display(ipd.Audio(wav, rate=config_loader.config['sampling_rate']))"
   ]
  },
  {
   "cell_type": "markdown",
   "metadata": {
    "colab_type": "text",
    "id": "eZJo81viVus-"
   },
   "source": [
    "### WaveRNN"
   ]
  },
  {
   "cell_type": "code",
   "execution_count": null,
   "metadata": {
    "colab": {},
    "colab_type": "code",
    "id": "WjIuQALHTr-R"
   },
   "outputs": [],
   "source": [
    "# Do some sys cleaning and imports\n",
    "sys.path.remove(TTS_path)\n",
    "sys.modules.pop('utils')"
   ]
  },
  {
   "cell_type": "code",
   "execution_count": null,
   "metadata": {
    "colab": {},
    "colab_type": "code",
    "id": "WjIuQALHTr-R"
   },
   "outputs": [],
   "source": [
    "sys.path.append(WaveRNN_path)\n",
    "from utils.dsp import hp\n",
    "from models.fatchord_version import WaveRNN\n",
    "import torch\n",
    "import numpy as np\n",
    "WaveRNN_path = Path(WaveRNN_path)"
   ]
  },
  {
   "cell_type": "code",
   "execution_count": null,
   "metadata": {
    "colab": {
     "base_uri": "https://localhost:8080/",
     "height": 51
    },
    "colab_type": "code",
    "id": "dptoYzL1XFAr",
    "outputId": "a87f9520-94cb-4306-d1b9-b8aa6b5b68bc"
   },
   "outputs": [],
   "source": [
    "# Unzip the pretrained model\n",
    "!unzip WaveRNN/pretrained/ljspeech.wavernn.mol.800k.zip -d WaveRNN/pretrained/"
   ]
  },
  {
   "cell_type": "code",
   "execution_count": null,
   "metadata": {
    "colab": {
     "base_uri": "https://localhost:8080/",
     "height": 34
    },
    "colab_type": "code",
    "id": "rKixR97aTtwX",
    "outputId": "5bf538f8-bf7c-4ca3-f6a8-93926a457ba3"
   },
   "outputs": [],
   "source": [
    "# Load pretrained model\n",
    "hp.configure(WaveRNN_path / 'hparams.py')  # Load hparams from file\n",
    "device = torch.device('cpu')\n",
    "model = WaveRNN(rnn_dims=hp.voc_rnn_dims,\n",
    "                fc_dims=hp.voc_fc_dims,\n",
    "                bits=hp.bits,\n",
    "                pad=hp.voc_pad,\n",
    "                upsample_factors=hp.voc_upsample_factors,\n",
    "                feat_dims=hp.num_mels,\n",
    "                compute_dims=hp.voc_compute_dims,\n",
    "                res_out_dims=hp.voc_res_out_dims,\n",
    "                res_blocks=hp.voc_res_blocks,\n",
    "                hop_length=hp.hop_length,\n",
    "                sample_rate=hp.sample_rate,\n",
    "                mode=hp.voc_mode).to(device)\n",
    "\n",
    "model.load(str(WaveRNN_path / 'pretrained/latest_weights.pyt'))"
   ]
  },
  {
   "cell_type": "code",
   "execution_count": null,
   "metadata": {
    "colab": {},
    "colab_type": "code",
    "id": "mPF7TrqDOE8S"
   },
   "outputs": [],
   "source": [
    "# Ignore some TF warnings\n",
    "import tensorflow as tf\n",
    "tf.get_logger().setLevel('ERROR')"
   ]
  },
  {
   "cell_type": "code",
   "execution_count": null,
   "metadata": {
    "colab": {
     "base_uri": "https://localhost:8080/",
     "height": 34
    },
    "colab_type": "code",
    "id": "EVkdFQeRUGQ-",
    "outputId": "62d4a302-de02-4acb-8979-4b30b3903db5"
   },
   "outputs": [],
   "source": [
    "# Generate sample with pre-trained WaveRNN vocoder\n",
    "batch_pred = True # False is slower but possibly better\n",
    "_ = model.generate(mel.clip(0,1)[np.newaxis,:,:], 'scientists.wav', batch_pred, 11_000, hp.voc_overlap, hp.mu_law)"
   ]
  },
  {
   "cell_type": "code",
   "execution_count": null,
   "metadata": {
    "colab": {
     "base_uri": "https://localhost:8080/",
     "height": 75
    },
    "colab_type": "code",
    "id": "vQYaZawLXTJI",
    "outputId": "bc677767-da4c-4125-b4a0-0e2f43a93efc"
   },
   "outputs": [],
   "source": [
    "# Load wav file\n",
    "ipd.display(ipd.Audio('scientists.wav'))"
   ]
  }
 ],
 "metadata": {
  "accelerator": "GPU",
  "colab": {
   "collapsed_sections": [],
   "name": "synthesize",
   "provenance": []
  },
  "kernelspec": {
   "display_name": "Python 3",
   "language": "python",
   "name": "python3"
  },
  "language_info": {
   "codemirror_mode": {
    "name": "ipython",
    "version": 3
   },
   "file_extension": ".py",
   "mimetype": "text/x-python",
   "name": "python",
   "nbconvert_exporter": "python",
   "pygments_lexer": "ipython3",
   "version": "3.6.9"
  }
 },
 "nbformat": 4,
 "nbformat_minor": 1
}
