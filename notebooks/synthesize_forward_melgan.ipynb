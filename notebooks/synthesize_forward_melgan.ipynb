{
 "cells": [
  {
   "cell_type": "markdown",
   "metadata": {
    "colab_type": "text",
    "id": "zdMgfG7GMF_R"
   },
   "source": [
    "<center> \n",
    "    <h1> Transformer TTS: A Text-to-Speech Transformer in TensorFlow 2 </h1>\n",
    "    <h2> Audio synthesis with Forward Transformer TTS and MelGAN Vocoder</h2>\n",
    "</center>\n",
    "\n",
    "## Forward Model"
   ]
  },
  {
   "cell_type": "code",
   "execution_count": null,
   "metadata": {
    "colab": {
     "base_uri": "https://localhost:8080/",
     "height": 323
    },
    "colab_type": "code",
    "id": "JQ5YuFPAxXUy",
    "outputId": "e9f81ab0-adbe-4741-daee-fd115387b047"
   },
   "outputs": [],
   "source": [
    "# Clone the Transformer TTS and WaveRNN repos\n",
    "!git clone https://github.com/as-ideas/TransformerTTS.git\n",
    "!git clone https://github.com/seungwonpark/melgan.git"
   ]
  },
  {
   "cell_type": "code",
   "execution_count": null,
   "metadata": {
    "colab": {
     "base_uri": "https://localhost:8080/",
     "height": 1000
    },
    "colab_type": "code",
    "id": "9bIzkIGjMRwm",
    "outputId": "89e451ea-c101-4694-c404-d3c15a358854"
   },
   "outputs": [],
   "source": [
    "# Install requirements\n",
    "!apt-get install -y espeak\n",
    "!pip install -r TransformerTTS/requirements.txt"
   ]
  },
  {
   "cell_type": "code",
   "execution_count": null,
   "metadata": {},
   "outputs": [],
   "source": [
    "# Download the pre-trained weights\n",
    "! wget https://public-asai-dl-models.s3.eu-central-1.amazonaws.com/TransformerTTS/ljspeech_melgan_forward_transformer.zip\n",
    "! unzip ljspeech_melgan_forward_transformer.zip"
   ]
  },
  {
   "cell_type": "code",
   "execution_count": null,
   "metadata": {},
   "outputs": [],
   "source": [
    "# Set up the paths\n",
    "from pathlib import Path\n",
    "MelGAN_path = 'melgan/'\n",
    "TTS_path = 'TransformerTTS/'\n",
    "config_path = Path('ljspeech_melgan_forward_transformer/melgan')\n",
    "\n",
    "import sys\n",
    "sys.path.append(TTS_path)"
   ]
  },
  {
   "cell_type": "code",
   "execution_count": null,
   "metadata": {
    "colab": {
     "base_uri": "https://localhost:8080/",
     "height": 88
    },
    "colab_type": "code",
    "id": "LucwkAK1yEVq",
    "outputId": "bef65ba5-1549-488c-d4dc-788965fa93ee"
   },
   "outputs": [],
   "source": [
    "# Load pretrained models\n",
    "from utils.config_manager import ConfigManager\n",
    "from utils.audio import Audio\n",
    "\n",
    "import IPython.display as ipd\n",
    "\n",
    "config_loader = ConfigManager(str(config_path), model_kind='forward')\n",
    "audio = Audio(config_loader.config)\n",
    "model = config_loader.load_model(str(config_path / 'forward_weights/ckpt-93'))"
   ]
  },
  {
   "cell_type": "code",
   "execution_count": null,
   "metadata": {
    "colab": {
     "base_uri": "https://localhost:8080/",
     "height": 34
    },
    "colab_type": "code",
    "id": "_5RKHIDQyZvo",
    "outputId": "a8c04963-ab23-480e-9826-53de2db0c67c"
   },
   "outputs": [],
   "source": [
    "# Synthesize text\n",
    "sentence = 'Scientists at the CERN laboratory, say they have discovered a new particle.'\n",
    "out = model.predict(sentence)"
   ]
  },
  {
   "cell_type": "code",
   "execution_count": null,
   "metadata": {
    "colab": {
     "base_uri": "https://localhost:8080/",
     "height": 75
    },
    "colab_type": "code",
    "id": "GXxdDHOAyZ6f",
    "outputId": "d319bc2c-2843-4b51-e1ce-76c2857f255e"
   },
   "outputs": [],
   "source": [
    "# Convert spectrogram to wav (with griffin lim)\n",
    "wav = audio.reconstruct_waveform(out['mel'].numpy().T)\n",
    "ipd.display(ipd.Audio(wav, rate=config_loader.config['sampling_rate']))"
   ]
  },
  {
   "cell_type": "markdown",
   "metadata": {},
   "source": [
    "You can also vary the speech speed"
   ]
  },
  {
   "cell_type": "code",
   "execution_count": null,
   "metadata": {},
   "outputs": [],
   "source": [
    "# 20% faster\n",
    "sentence = 'Scientists at the CERN laboratory, say they have discovered a new particle.'\n",
    "out = model.predict(sentence, speed_regulator=1.20)\n",
    "wav = audio.reconstruct_waveform(out['mel'].numpy().T)\n",
    "ipd.display(ipd.Audio(wav, rate=config_loader.config['sampling_rate']))"
   ]
  },
  {
   "cell_type": "code",
   "execution_count": null,
   "metadata": {},
   "outputs": [],
   "source": [
    "# 10% slower\n",
    "sentence = 'Scientists at the CERN laboratory, say they have discovered a new particle.'\n",
    "out = model.predict(sentence, speed_regulator=.9)\n",
    "wav = audio.reconstruct_waveform(out['mel'].numpy().T)\n",
    "ipd.display(ipd.Audio(wav, rate=config_loader.config['sampling_rate']))"
   ]
  },
  {
   "cell_type": "markdown",
   "metadata": {
    "colab_type": "text",
    "id": "eZJo81viVus-"
   },
   "source": [
    "### MelGAN"
   ]
  },
  {
   "cell_type": "code",
   "execution_count": null,
   "metadata": {
    "colab": {},
    "colab_type": "code",
    "id": "WjIuQALHTr-R"
   },
   "outputs": [],
   "source": [
    "# Do some sys cleaning\n",
    "sys.path.remove(TTS_path)\n",
    "sys.modules.pop('model')"
   ]
  },
  {
   "cell_type": "code",
   "execution_count": null,
   "metadata": {
    "colab": {},
    "colab_type": "code",
    "id": "WjIuQALHTr-R"
   },
   "outputs": [],
   "source": [
    "sys.path.append(MelGAN_path)\n",
    "import torch\n",
    "import numpy as np\n",
    "\n",
    "vocoder = torch.hub.load('seungwonpark/melgan', 'melgan')\n",
    "vocoder.eval()\n",
    "\n",
    "mel = torch.tensor(out['mel'].numpy().T[np.newaxis,:,:])"
   ]
  },
  {
   "cell_type": "code",
   "execution_count": null,
   "metadata": {
    "colab": {},
    "colab_type": "code",
    "id": "WjIuQALHTr-R"
   },
   "outputs": [],
   "source": [
    "if torch.cuda.is_available():\n",
    "    vocoder = vocoder.cuda()\n",
    "    mel = mel.cuda()\n",
    "\n",
    "with torch.no_grad():\n",
    "    audio = vocoder.inference(mel)"
   ]
  },
  {
   "cell_type": "code",
   "execution_count": null,
   "metadata": {
    "colab": {
     "base_uri": "https://localhost:8080/",
     "height": 75
    },
    "colab_type": "code",
    "id": "vQYaZawLXTJI",
    "outputId": "bc677767-da4c-4125-b4a0-0e2f43a93efc"
   },
   "outputs": [],
   "source": [
    "# Display audio\n",
    "ipd.display(ipd.Audio(audio.cpu().numpy(), rate=22050))"
   ]
  }
 ],
 "metadata": {
  "accelerator": "GPU",
  "colab": {
   "collapsed_sections": [],
   "name": "synthesize",
   "provenance": []
  },
  "kernelspec": {
   "display_name": "Python 3",
   "language": "python",
   "name": "python3"
  },
  "language_info": {
   "codemirror_mode": {
    "name": "ipython",
    "version": 3
   },
   "file_extension": ".py",
   "mimetype": "text/x-python",
   "name": "python",
   "nbconvert_exporter": "python",
   "pygments_lexer": "ipython3",
   "version": "3.6.9"
  }
 },
 "nbformat": 4,
 "nbformat_minor": 1
}
