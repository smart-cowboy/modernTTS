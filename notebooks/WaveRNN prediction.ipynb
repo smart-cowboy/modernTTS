{
 "cells": [
  {
   "cell_type": "code",
   "execution_count": 1,
   "metadata": {},
   "outputs": [],
   "source": [
    "# EDIT to point at WaveRNN folder\n",
    "WaveRNN_path = '~/workspace/WaveRNN/'"
   ]
  },
  {
   "cell_type": "code",
   "execution_count": 2,
   "metadata": {},
   "outputs": [],
   "source": [
    "import sys\n",
    "sys.path.append(WaveRNN_path)\n",
    "from utils.dsp import hp\n",
    "from models.fatchord_version import WaveRNN\n",
    "import torch\n",
    "import numpy as np\n",
    "from pathlib import Path"
   ]
  },
  {
   "cell_type": "code",
   "execution_count": 3,
   "metadata": {},
   "outputs": [],
   "source": [
    "WaveRNN_path = Path(WaveRNN_path)"
   ]
  },
  {
   "cell_type": "code",
   "execution_count": 4,
   "metadata": {},
   "outputs": [
    {
     "name": "stdout",
     "output_type": "stream",
     "text": [
      "Trainable Parameters: 4.234M\n"
     ]
    }
   ],
   "source": [
    "hp.configure(WaveRNN_path / 'hparams.py')  # Load hparams from file\n",
    "device = torch.device('cpu')\n",
    "model = WaveRNN(rnn_dims=hp.voc_rnn_dims,\n",
    "                fc_dims=hp.voc_fc_dims,\n",
    "                bits=hp.bits,\n",
    "                pad=hp.voc_pad,\n",
    "                upsample_factors=hp.voc_upsample_factors,\n",
    "                feat_dims=hp.num_mels,\n",
    "                compute_dims=hp.voc_compute_dims,\n",
    "                res_out_dims=hp.voc_res_out_dims,\n",
    "                res_blocks=hp.voc_res_blocks,\n",
    "                hop_length=hp.hop_length,\n",
    "                sample_rate=hp.sample_rate,\n",
    "                mode=hp.voc_mode).to(device)\n",
    "\n",
    "model.load(str(WaveRNN_path / 'pretrained/latest_weights.pyt'))"
   ]
  },
  {
   "cell_type": "code",
   "execution_count": 5,
   "metadata": {},
   "outputs": [
    {
     "name": "stdout",
     "output_type": "stream",
     "text": [
      "| ████████████████ 109900/110000 | Batch Size: 1 | Gen Rate: 0.8kHz | "
     ]
    }
   ],
   "source": [
    "file_name = Path('scientists.npy')\n",
    "mel = np.load(WaveRNN_path / file_name)\n",
    "batch_pred = True # False is slower but possibly better\n",
    "_ = model.generate(mel.clip(0,1)[np.newaxis,:,:], file_name.stem + '.wav', batch_pred, 110_000, hp.voc_overlap, hp.mu_law)"
   ]
  }
 ],
 "metadata": {
  "kernelspec": {
   "display_name": "Python 3",
   "language": "python",
   "name": "python3"
  },
  "language_info": {
   "codemirror_mode": {
    "name": "ipython",
    "version": 3
   },
   "file_extension": ".py",
   "mimetype": "text/x-python",
   "name": "python",
   "nbconvert_exporter": "python",
   "pygments_lexer": "ipython3",
   "version": "3.6.10"
  }
 },
 "nbformat": 4,
 "nbformat_minor": 2
}
